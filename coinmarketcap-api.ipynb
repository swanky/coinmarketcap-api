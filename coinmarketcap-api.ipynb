{
 "cells": [
  {
   "cell_type": "code",
   "execution_count": 40,
   "metadata": {},
   "outputs": [],
   "source": [
    "from urllib.request import urlopen\n",
    "import json\n",
    "\n",
    "def get_btc_data():\n",
    "    btc_api = \"https://api.coinmarketcap.com/v1/ticker/bitcoin/\"\n",
    "    f = urlopen(btc_api)\n",
    "    btc_data = f.read()\n",
    "    btc_data_json = json.loads(btc_data)\n",
    "    return  btc_data_json"
   ]
  },
  {
   "cell_type": "code",
   "execution_count": 46,
   "metadata": {
    "collapsed": true
   },
   "outputs": [],
   "source": [
    "from datetime import datetime, date, time\n",
    "\n",
    "def print_btc_data(btc_data):\n",
    "    last_updated_time = datetime.fromtimestamp(int(data.get('last_updated')))\n",
    "    print(last_updated_time.strftime(\"%Y-%m-%d %H:%M\"), data.get('symbol'), data.get('price_usd'),sep=\", \")"
   ]
  },
  {
   "cell_type": "code",
   "execution_count": 47,
   "metadata": {},
   "outputs": [
    {
     "name": "stdout",
     "output_type": "stream",
     "text": [
      "2017-12-18 11:29, BTC, 18740.6\n"
     ]
    }
   ],
   "source": [
    "print_btc_data(get_btc_data().pop())"
   ]
  },
  {
   "cell_type": "code",
   "execution_count": null,
   "metadata": {
    "collapsed": true
   },
   "outputs": [],
   "source": []
  }
 ],
 "metadata": {
  "kernelspec": {
   "display_name": "Python 3",
   "language": "python",
   "name": "python3"
  },
  "language_info": {
   "codemirror_mode": {
    "name": "ipython",
    "version": 3
   },
   "file_extension": ".py",
   "mimetype": "text/x-python",
   "name": "python",
   "nbconvert_exporter": "python",
   "pygments_lexer": "ipython3",
   "version": "3.6.1"
  }
 },
 "nbformat": 4,
 "nbformat_minor": 2
}
